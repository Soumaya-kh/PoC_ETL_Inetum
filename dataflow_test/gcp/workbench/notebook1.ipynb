{
 "cells": [
  {
   "cell_type": "code",
   "execution_count": 1,
   "id": "ebfb80e2-aebd-4b5c-a4d5-b34b9bf3a68e",
   "metadata": {},
   "outputs": [],
   "source": [
    "import apache_beam as beam\n",
    "from apache_beam.runners.interactive.interactive_runner import InteractiveRunner\n",
    "import apache_beam.runners.interactive.interactive_beam as ib"
   ]
  },
  {
   "cell_type": "code",
   "execution_count": 2,
   "id": "b3fdfd95-2cbe-4cc3-a7df-84d21363ea49",
   "metadata": {},
   "outputs": [],
   "source": [
    "from apache_beam.options.pipeline_options import GoogleCloudOptions\n",
    "import google.auth"
   ]
  },
  {
   "cell_type": "code",
   "execution_count": 3,
   "id": "970538b1-34e4-4911-a426-86ad136305b3",
   "metadata": {},
   "outputs": [],
   "source": [
    "import argparse\n",
    "import logging\n",
    "\n",
    "from apache_beam.coders.coders import Coder\n",
    "\n",
    "from apache_beam.options.pipeline_options import PipelineOptions"
   ]
  },
  {
   "cell_type": "code",
   "execution_count": 71,
   "id": "ce97b836-644e-40c0-bdb8-a315bf586549",
   "metadata": {},
   "outputs": [
    {
     "data": {
      "text/plain": [
       "apache_beam.pvalue.PCollection"
      ]
     },
     "execution_count": 71,
     "metadata": {},
     "output_type": "execute_result"
    }
   ],
   "source": [
    "import os\n",
    "import apache_beam as beam\n",
    "\n",
    "class ISOCoder(beam.coders.Coder):\n",
    "    \"\"\"A coder used for reading and writing strings as ISO-8859-1.\"\"\"\n",
    "\n",
    "    def encode(self, value):\n",
    "        return value.encode('iso-8859-1')\n",
    "\n",
    "    def decode(self, value):\n",
    "        return value.decode('iso-8859-1')\n",
    "\n",
    "    def is_deterministic(self):\n",
    "        return True\n",
    "\n",
    "\n",
    "# os.environ[\"BEAM_RUNNER\"] = \"InteractiveRunner\"\n",
    "p = beam.Pipeline()\n",
    "lines = (p | beam.io.ReadFromText('gs://dflowtestbucket/raw_data_webngrams.csv', coder=ISOCoder(), skip_header_lines=1)\n",
    "    | beam.Map(lambda x: x.split(';'))\n",
    "    | beam.Filter(lambda ligne: ligne[3] == \"en\"))\n",
    "lines_map = lines | beam.Map(print)\n",
    "lines_map.pcollection"
   ]
  }
 ],
 "metadata": {
  "kernelspec": {
   "display_name": "01. Apache Beam 2.45.0 for Python 3",
   "language": "python",
   "name": "01-apache-beam-2.45.0"
  },
  "language_info": {
   "codemirror_mode": {
    "name": "ipython",
    "version": 3
   },
   "file_extension": ".py",
   "mimetype": "text/x-python",
   "name": "python",
   "nbconvert_exporter": "python",
   "pygments_lexer": "ipython3",
   "version": "3.8.10"
  }
 },
 "nbformat": 4,
 "nbformat_minor": 5
}
